{
 "cells": [
  {
   "cell_type": "markdown",
   "metadata": {},
   "source": [
    "# Plot harmonic measure on a GW-tree as apparent after some finite number of generations"
   ]
  },
  {
   "cell_type": "code",
   "execution_count": 45,
   "metadata": {
    "collapsed": false
   },
   "outputs": [],
   "source": [
    "import networkx as nx\n",
    "import markovmixing as mkm\n",
    "\n",
    "import numpy\n",
    "import matplotlib.pyplot as plt\n",
    "\n",
    "execfile('graph_util.py')"
   ]
  },
  {
   "cell_type": "markdown",
   "metadata": {},
   "source": [
    "## Choose one of these offspring distributions"
   ]
  },
  {
   "cell_type": "code",
   "execution_count": 94,
   "metadata": {
    "collapsed": true
   },
   "outputs": [],
   "source": [
    "offspring = lambda: numpy.random.poisson(1.5)\n",
    "generation_measure = 8\n",
    "generation_hit = 13"
   ]
  },
  {
   "cell_type": "code",
   "execution_count": 103,
   "metadata": {
    "collapsed": true
   },
   "outputs": [],
   "source": [
    "offspring = lambda: numpy.random.choice([1,2])\n",
    "generation_measure = 8\n",
    "generation_hit = 15"
   ]
  },
  {
   "cell_type": "code",
   "execution_count": 67,
   "metadata": {
    "collapsed": true
   },
   "outputs": [],
   "source": [
    "offspring = lambda: numpy.random.choice([1,2,3])"
   ]
  },
  {
   "cell_type": "markdown",
   "metadata": {},
   "source": [
    "## Generate a GW-tree with the chosen offspring"
   ]
  },
  {
   "cell_type": "code",
   "execution_count": 104,
   "metadata": {
    "collapsed": false
   },
   "outputs": [
    {
     "name": "stdout",
     "output_type": "stream",
     "text": [
      "1578\n"
     ]
    }
   ],
   "source": [
    "numpy.random.seed(0)\n",
    "\n",
    "G = grow_gw_tree(offspring, n_gen = generation_hit, directed = True)\n",
    "\n",
    "while nx.number_of_nodes(G) <= 100: \n",
    "\tG = grow_gw_tree(offspring, n_gen = generation_hit, directed = True)\n",
    "    \n",
    "print nx.number_of_nodes(G)"
   ]
  },
  {
   "cell_type": "code",
   "execution_count": 83,
   "metadata": {
    "collapsed": false
   },
   "outputs": [],
   "source": [
    "# Show the tree\n",
    "show_tree(G)"
   ]
  },
  {
   "cell_type": "markdown",
   "metadata": {},
   "source": [
    "## Setup for the simulation"
   ]
  },
  {
   "cell_type": "code",
   "execution_count": 106,
   "metadata": {
    "collapsed": false
   },
   "outputs": [
    {
     "name": "stdout",
     "output_type": "stream",
     "text": [
      "[8, 89, 162, 241, 282, 298, 329, 384, 420, 471, 546, 584, 639, 709, 788, 858, 917, 988, 1004, 1048, 1106, 1167, 1183, 1208, 1238, 1277, 1301, 1349, 1394, 1437, 1453, 1470, 1496, 1513, 1543]\n",
      "527\n"
     ]
    }
   ],
   "source": [
    "# The tree up to the generation where we want to determine the harmonic measure\n",
    "G_measure = G.copy()\n",
    "\n",
    "for node in G_measure.nodes():\n",
    "\tif G_measure.node[node]['generation']>generation_measure:\n",
    "\t\t\tG_measure.remove_node(node)\n",
    "            \n",
    "# the nodes of generation measure and hit\n",
    "generation = nx.get_node_attributes(G, 'generation')\n",
    "\n",
    "generation_measure_nodes = [key for key in generation if generation[key] == generation_measure]\n",
    "generation_hit_nodes = [key for key in generation if generation[key] == generation_hit]\n",
    "\n",
    "# dictionary mapping nodes of generation hit to their ancestors in generation measure\n",
    "ancestor_dict = {}\n",
    "\n",
    "for nh in generation_hit_nodes:\n",
    "    a = nh\n",
    "    \n",
    "    while generation[a] != generation_measure:\n",
    "        a = G.predecessors(a)[0] \n",
    "        \n",
    "    ancestor_dict[nh] = a\n",
    "        \n",
    "print generation_measure_nodes\n",
    "print len(generation_hit_nodes)"
   ]
  },
  {
   "cell_type": "code",
   "execution_count": 107,
   "metadata": {
    "collapsed": false
   },
   "outputs": [],
   "source": [
    "# Show the tree up to generation measure\n",
    "show_tree(G_measure)"
   ]
  },
  {
   "cell_type": "markdown",
   "metadata": {},
   "source": [
    "## Monte-Carlo simulation of SRW on the tree"
   ]
  },
  {
   "cell_type": "code",
   "execution_count": 110,
   "metadata": {
    "collapsed": false,
    "scrolled": true
   },
   "outputs": [
    {
     "name": "stdout",
     "output_type": "stream",
     "text": [
      "0\n",
      "50\n",
      "100\n",
      "150\n",
      "200\n",
      "250\n",
      "300\n",
      "350\n",
      "400\n",
      "450\n",
      "500\n",
      "550\n",
      "600\n",
      "650\n",
      "700\n",
      "750\n",
      "800\n",
      "850\n",
      "900\n",
      "950\n",
      "{384: 12, 1543: 52, 8: 28, 1167: 21, 788: 56, 917: 26, 1048: 15, 282: 24, 1437: 18, 1183: 20, 162: 33, 420: 27, 298: 46, 1453: 13, 1301: 17, 1208: 28, 1470: 40, 709: 60, 1349: 28, 584: 32, 329: 54, 546: 8, 1106: 22, 1238: 36, 471: 25, 1496: 50, 89: 25, 858: 14, 988: 6, 1513: 51, 1004: 10, 241: 14, 1394: 21, 1277: 13, 639: 55}\n",
      "1000\n"
     ]
    }
   ],
   "source": [
    "# monte-carlo simulation of the harmonic measure \n",
    "mc = mkm.nx_graph_srw(G.to_undirected())\n",
    "nhits = {}\n",
    "\n",
    "for n in generation_measure_nodes:\n",
    "    nhits[n] = 0\n",
    "\n",
    "for i in xrange(1000):\n",
    "    if i % 50 == 0:\n",
    "        print i\n",
    "    \n",
    "    # start a SRW at the root\n",
    "    path = [1]\n",
    "    hit = -1\n",
    "\n",
    "    while hit == -1:\n",
    "        # let the SRW walk 99 steps\n",
    "        path = mc.sample_path(path[-1],100)\n",
    "\n",
    "        # did we hit generation hit?\n",
    "        for x in path:\n",
    "            if generation[x] == generation_hit:\n",
    "                hit = x\n",
    "                break\n",
    "    \n",
    "    # log the hit\n",
    "    nhits[ancestor_dict[hit]] = nhits[ancestor_dict[hit]]+1\n",
    "\n",
    "print nhits\n",
    "print sum(nhits.values())"
   ]
  },
  {
   "cell_type": "markdown",
   "metadata": {},
   "source": [
    "### Plot the distribution of hits"
   ]
  },
  {
   "cell_type": "code",
   "execution_count": 112,
   "metadata": {
    "collapsed": true
   },
   "outputs": [],
   "source": [
    "x = nhits.keys()\n",
    "\n",
    "y = []\n",
    "for key in x:\n",
    "    y.append(nhits[key]/100.0)\n",
    "\n",
    "fig = plt.figure()\n",
    "\n",
    "plt.bar(numpy.arange(len(x)), y, align='edge', width=1.0)\n",
    "\n",
    "plt.title(\"Monte-Carlo estimate of harmonic measure\")\n",
    "#plt.xlabel(\"Markov chain state space\")\n",
    "plt.ylabel(\"Probabiliy\")\n",
    "#plt.tick_params(axis='x', which='both', bottom='off', top='off', labelbottom='off')\n",
    "\n",
    "plt.xlim(0, len(x))\n",
    "#plt.ylim(0, 1)\n",
    "plt.show()\n",
    "\n"
   ]
  },
  {
   "cell_type": "code",
   "execution_count": null,
   "metadata": {
    "collapsed": true
   },
   "outputs": [],
   "source": [
    "\n",
    "\n",
    "\n",
    "\n",
    "\n"
   ]
  }
 ],
 "metadata": {
  "kernelspec": {
   "display_name": "Python 2",
   "language": "python",
   "name": "python2"
  },
  "language_info": {
   "codemirror_mode": {
    "name": "ipython",
    "version": 2
   },
   "file_extension": ".py",
   "mimetype": "text/x-python",
   "name": "python",
   "nbconvert_exporter": "python",
   "pygments_lexer": "ipython2",
   "version": "2.7.6"
  }
 },
 "nbformat": 4,
 "nbformat_minor": 0
}
