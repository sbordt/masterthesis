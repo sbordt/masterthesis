{
 "cells": [
  {
   "cell_type": "markdown",
   "metadata": {},
   "source": [
    "# Masterthesis"
   ]
  },
  {
   "cell_type": "code",
   "execution_count": null,
   "metadata": {
    "collapsed": true
   },
   "outputs": [],
   "source": [
    "import networkx as nx\n",
    "import markovmixing as mkm\n",
    "import numpy as np\n",
    "import random\n",
    "\n",
    "execfile('graph_util.py')"
   ]
  },
  {
   "cell_type": "markdown",
   "metadata": {},
   "source": [
    "## Generate and save some graphs "
   ]
  },
  {
   "cell_type": "code",
   "execution_count": null,
   "metadata": {
    "collapsed": false,
    "scrolled": false
   },
   "outputs": [],
   "source": [
    "random.seed(0)\n",
    "\n",
    "# G = erdos_renyi_giant_component(5000000,1.05/5000000)\n",
    "# print nx.number_of_nodes(G)\n",
    "\n",
    "# G_2core = nx.k_core(G,k=2)\n",
    "# print nx.number_of_nodes(G_2core)\n",
    "\n",
    "# nx.write_sparse6(G_2core, 'ergc_2core_1.s6')\n",
    "\n",
    "random.seed(1)\n",
    "\n",
    "# G = erdos_renyi_giant_component(5000000,1.1/5000000)\n",
    "# print nx.number_of_nodes(G)\n",
    "\n",
    "# G_2core = nx.k_core(G,k=2)\n",
    "# print nx.number_of_nodes(G_2core)\n",
    "\n",
    "# nx.write_sparse6(G_2core, 'ergc_2core_2.s6')"
   ]
  },
  {
   "cell_type": "markdown",
   "metadata": {},
   "source": [
    "## Determine mixing times on different types of graphs"
   ]
  },
  {
   "cell_type": "markdown",
   "metadata": {},
   "source": [
    "### Lazy random walk on the 1000-path"
   ]
  },
  {
   "cell_type": "code",
   "execution_count": null,
   "metadata": {
    "collapsed": true
   },
   "outputs": [],
   "source": [
    "G = nx.path_graph(1000)\n",
    "\n",
    "mc = mkm.nx_graph_lazy_srw(G)\n",
    "\n",
    "for i in [0,250,500]:\n",
    "    d = np.zeros(1000)\n",
    "    d[i] = 1.\n",
    "    mc.add_distributions(d)\n",
    "    \n",
    "mc.plot_tv_mixing(y_tol=0.01, threshold=0.05, text=False)"
   ]
  },
  {
   "cell_type": "markdown",
   "metadata": {},
   "source": [
    "### Lazy biased random walk on the 1000-path"
   ]
  },
  {
   "cell_type": "code",
   "execution_count": null,
   "metadata": {
    "collapsed": false
   },
   "outputs": [],
   "source": [
    "mc = mkm.MarkovChain(mkm.line_lazy_transition_matrix(1000, p=0.51))\n",
    "\n",
    "for i in [0,500,999]:\n",
    "    d = np.zeros(1000)\n",
    "    d[i] = 1.\n",
    "    mc.add_distributions(d)\n",
    "    \n",
    "mc.plot_tv_mixing(y_tol=0.01, threshold=1e-5, text=False)"
   ]
  },
  {
   "cell_type": "markdown",
   "metadata": {},
   "source": [
    "### Lazy random walk on the 50-cycle"
   ]
  },
  {
   "cell_type": "code",
   "execution_count": null,
   "metadata": {
    "collapsed": false
   },
   "outputs": [],
   "source": [
    "G = nx.cycle_graph(50)\n",
    "\n",
    "mc = mkm.nx_graph_lazy_srw(G)\n",
    "mc.add_random_delta_distributions(1)\n",
    "\n",
    "mc.plot_tv_mixing(y_tol=0.01, threshold=0.01, text=False)"
   ]
  },
  {
   "cell_type": "markdown",
   "metadata": {},
   "source": [
    "### Lazy random walk on the 50-cycle with appended binary trees of height 8"
   ]
  },
  {
   "cell_type": "code",
   "execution_count": null,
   "metadata": {
    "collapsed": false,
    "scrolled": false
   },
   "outputs": [],
   "source": [
    "G = append_graph_to_all_nodes(nx.cycle_graph(50), nx.balanced_tree(2,8), 0)\n",
    "\n",
    "mc = mkm.nx_graph_lazy_srw(G)\n",
    "mc.add_random_delta_distributions(1)\n",
    "\n",
    "mc.plot_tv_mixing(y_tol=0.01, threshold=0.01, text=False)"
   ]
  },
  {
   "cell_type": "markdown",
   "metadata": {},
   "source": [
    "### Lazy random walk on the 15-dimensional hypercube"
   ]
  },
  {
   "cell_type": "code",
   "execution_count": null,
   "metadata": {
    "collapsed": false
   },
   "outputs": [],
   "source": [
    "mc = mkm.MarkovChain(mkm.hypercube_transition_matrix(15))\n",
    "mc.add_random_delta_distributions(1)\n",
    "mc.set_stationary(mkm.uniform_distribution(mc.get_n()))\n",
    "\n",
    "mc.plot_tv_mixing(y_tol=0.01, threshold=0.01, text=False)"
   ]
  },
  {
   "cell_type": "markdown",
   "metadata": {},
   "source": [
    "### SRW on a random 6-regular graph with n=50.000"
   ]
  },
  {
   "cell_type": "code",
   "execution_count": null,
   "metadata": {
    "collapsed": false
   },
   "outputs": [],
   "source": [
    "G = nx.read_sparse6('6_regular.s6')\n",
    "\n",
    "mc = mkm.nx_graph_srw(G)\n",
    "mc.add_random_delta_distributions(1)\n",
    "\n",
    "mc.plot_tv_mixing(y_tol=0.01, threshold=0.01, text=False)"
   ]
  },
  {
   "cell_type": "code",
   "execution_count": null,
   "metadata": {
    "collapsed": false,
    "scrolled": false
   },
   "outputs": [],
   "source": []
  },
  {
   "cell_type": "code",
   "execution_count": null,
   "metadata": {
    "collapsed": true
   },
   "outputs": [],
   "source": [
    "################ Mixing on the 2-core of the giant component of an Erdős–Rényi random graph ################\n",
    "\n",
    "G = nx.read_sparse6('ergc_2core_1.s6')\n",
    "mkm.nx_graph_analyze_lazy_srw(G)"
   ]
  },
  {
   "cell_type": "code",
   "execution_count": null,
   "metadata": {
    "collapsed": true
   },
   "outputs": [],
   "source": [
    "################ Mixing on the 2-core of the giant component of an Erdős–Rényi random graph ################\n",
    "\n",
    "G = nx.read_sparse6('ergc_2core_2.s6')\n",
    "mkm.nx_graph_analyze_lazy_srw(G)"
   ]
  },
  {
   "cell_type": "code",
   "execution_count": null,
   "metadata": {
    "collapsed": false,
    "scrolled": false
   },
   "outputs": [],
   "source": []
  },
  {
   "cell_type": "code",
   "execution_count": null,
   "metadata": {
    "collapsed": false,
    "scrolled": false
   },
   "outputs": [],
   "source": [
    "################ Mixing on a GW-Tree ################\n",
    "\n",
    "# np.random.seed(0)\n",
    "\n",
    "# G = grow_gw_tree(lambda: np.random.poisson(1.05, 1), num_generations = 100)\n",
    "# while nx.number_of_nodes(G) < 100:\n",
    "# \tG = grow_gw_tree(lambda: np.random.poisson(1.05, 1), num_generations = 100)\n",
    "\n",
    "# #show_tree(G)\n",
    "\n",
    "# mc = mkm.nx_graph_lazy_srw(G)\n",
    "# mc.add_distributions(mkm.delta_distribution(mc.get_n(),0))\n",
    "# mc.compute_tv_mixing()\n",
    "\n",
    "# # plot the mixing\n",
    "# mc.plot_tv_mixing(0)"
   ]
  },
  {
   "cell_type": "code",
   "execution_count": null,
   "metadata": {
    "collapsed": true
   },
   "outputs": [],
   "source": [
    "################ lazy biased random walk on the line ################\n",
    "\n",
    "mc = mkm.MarkovChain(mkm.line_lazy_transition_matrix(100, p=0.51))\n",
    "mc.add_random_delta_distributions(1)\n",
    "mc.compute_tv_mixing()\n",
    "\n",
    "mc.convergence_video('/home/sbordt/Desktop/line_biased.avi', 0, 60)"
   ]
  },
  {
   "cell_type": "markdown",
   "metadata": {
    "collapsed": true
   },
   "source": []
  },
  {
   "cell_type": "code",
   "execution_count": null,
   "metadata": {
    "collapsed": true
   },
   "outputs": [],
   "source": []
  },
  {
   "cell_type": "markdown",
   "metadata": {},
   "source": [
    "## Draw some graphs"
   ]
  },
  {
   "cell_type": "markdown",
   "metadata": {
    "collapsed": true
   },
   "source": [
    "### 10-path with attached Galton-Watson trees"
   ]
  },
  {
   "cell_type": "code",
   "execution_count": null,
   "metadata": {
    "collapsed": true
   },
   "outputs": [],
   "source": [
    "np.random.seed(0)\n",
    "\n",
    "G = nx.path_graph(10)\n",
    "grow_gw_trees_at_all_nodes(G, lambda: np.random.poisson(0.9, 1))\n",
    "\n",
    "pos = nx.graphviz_layout(G, prog='neato')\n",
    "nx.draw(G, pos, with_labels=False, arrows=False, node_size=100, node_color='k', edge_color='k', width=1.5)\n",
    "plt.show()\n",
    "\n",
    "pos = nx.graphviz_layout(G, prog='neato')\n",
    "nx.draw(G, pos, with_labels=True, arrows=False)\n",
    "plt.show()\n"
   ]
  },
  {
   "cell_type": "markdown",
   "metadata": {},
   "source": [
    "### 2-core and path contraction for a giant component"
   ]
  },
  {
   "cell_type": "code",
   "execution_count": null,
   "metadata": {
    "collapsed": true
   },
   "outputs": [],
   "source": [
    "random.seed(0)\n",
    "\n",
    "n = 100000\n",
    "lam = 1.1\n",
    "\n",
    "G = erdos_renyi_giant_component(n,lam/n)\n",
    "K = pseudo_kernel(G)\n",
    "\n",
    "print nx.number_of_nodes(G)\n",
    "print nx.number_of_nodes(K)\n",
    "\n",
    "pos = nx.graphviz_layout(K, prog='fdp')\n",
    "nx.draw(K, pos, with_labels=False, arrows=False, node_size=100, node_color='k', edge_color='k', width=1.5)\n",
    "plt.show()"
   ]
  },
  {
   "cell_type": "markdown",
   "metadata": {},
   "source": [
    "## Coupling of random walk on two Galton-Watson trees"
   ]
  },
  {
   "cell_type": "code",
   "execution_count": null,
   "metadata": {
    "collapsed": true
   },
   "outputs": [],
   "source": [
    "# make the result look like a coupling of trees was tried, too\n",
    "# this code does only generate the trees\n",
    "np.random.seed(11)\n",
    "\n",
    "G = grow_gw_tree(lambda: np.random.choice([1,1,1,1,1,2,2,2,3,3]), n_gen=5)\n",
    "#show_tree(G)\n",
    "\n",
    "# two nodes of degree 2 become degree 3 to reflect the different distribution\n",
    "G.add_edge(21, G.number_of_nodes())\n",
    "grow_gw_tree_at_node(G, G.number_of_nodes()-1, lambda: np.random.choice([1,1,1,1,1,2,2,3,3,3]), n_gen=3)\n",
    "\n",
    "G.add_edge(35, G.number_of_nodes())\n",
    "grow_gw_tree_at_node(G, G.number_of_nodes()-1, lambda: np.random.choice([1,1,1,1,1,2,2,3,3,3]), n_gen=2)\n",
    "\n",
    "show_tree(G)"
   ]
  },
  {
   "cell_type": "markdown",
   "metadata": {
    "collapsed": true
   },
   "source": [
    "## Plot of the degree distribution of a random graph and it's giant component"
   ]
  },
  {
   "cell_type": "code",
   "execution_count": null,
   "metadata": {
    "collapsed": true
   },
   "outputs": [],
   "source": [
    "import matplotlib.pyplot as plt\n",
    "\n",
    "from matplotlib.colors import Normalize\n",
    "from matplotlib.cm import ScalarMappable\n",
    "from scipy.stats import binom\n",
    "\n",
    "n = 1000000\n",
    "p = 1.05/n\n",
    "\n",
    "random.seed(3)\n",
    "\n",
    "# sampe random graph and extract it's giant component\n",
    "G = nx.fast_gnp_random_graph(n,p)\n",
    "\n",
    "number_of_nodes = 0\n",
    "C_1 = 0\n",
    "for c in nx.connected_component_subgraphs(G):\n",
    "    if nx.number_of_nodes(c) > number_of_nodes:\n",
    "        number_of_nodes = nx.number_of_nodes(c)\n",
    "        C_1 = c\n",
    "        \n",
    "# degree distributions\n",
    "d1 = np.array(nx.degree_histogram(G))\n",
    "d2 = np.array(nx.degree_histogram(C_1))\n",
    "\n",
    "print sum(d1)\n",
    "print d1\n",
    "print sum(d2)\n",
    "print d2\n",
    "print nx.number_of_nodes(C_1)"
   ]
  },
  {
   "cell_type": "code",
   "execution_count": null,
   "metadata": {
    "collapsed": false,
    "scrolled": false
   },
   "outputs": [],
   "source": [
    "# random graph\n",
    "x = np.arange(8)\n",
    "y = (d1/(1.0*sum(d1)))[0:8]\n",
    "    \n",
    "fig = plt.figure()\n",
    "\n",
    "vmax = np.max(y)\n",
    "vmin = (np.min(y)*3. - vmax)/2.\n",
    "\n",
    "colormap = ScalarMappable(norm=Normalize(vmin, vmax), cmap='Blues')\n",
    "\n",
    "plt.bar(x, y, color=colormap.to_rgba(y), align='edge', width=0.8)\n",
    "\n",
    "plt.tick_params(axis='x', which='both', bottom='off', top='off', labelbottom='off')\n",
    "\n",
    "plt.xlim(0, len(x))\n",
    "plt.show()"
   ]
  },
  {
   "cell_type": "code",
   "execution_count": null,
   "metadata": {
    "collapsed": false,
    "scrolled": false
   },
   "outputs": [],
   "source": [
    "# giant component\n",
    "x = np.arange(8)\n",
    "y = (d2/(1.0*sum(d2)))[0:8]\n",
    "    \n",
    "fig = plt.figure()\n",
    "\n",
    "vmax = np.max(y)\n",
    "vmin = (np.min(y)*3. - vmax)/2.\n",
    "\n",
    "colormap = ScalarMappable(norm=Normalize(vmin, vmax), cmap='Blues')\n",
    "\n",
    "plt.bar(x, y, color=colormap.to_rgba(y), align='edge', width=0.8)\n",
    "\n",
    "plt.tick_params(axis='x', which='both', bottom='off', top='off', labelbottom='off')\n",
    "\n",
    "plt.xlim(0, len(x))\n",
    "plt.show()"
   ]
  },
  {
   "cell_type": "code",
   "execution_count": null,
   "metadata": {
    "collapsed": true
   },
   "outputs": [],
   "source": []
  },
  {
   "cell_type": "code",
   "execution_count": null,
   "metadata": {
    "collapsed": false
   },
   "outputs": [],
   "source": [
    "i = 1\n",
    "j = 1\n",
    "\n",
    "print i ^ ( (i ^ (~ (i & (1 << j))) ) & (1 << j) )"
   ]
  },
  {
   "cell_type": "code",
   "execution_count": null,
   "metadata": {
    "collapsed": false
   },
   "outputs": [],
   "source": [
    "import scipy.sparse as ssp\n",
    "\n",
    "def hypercube_transition_matrix(n, lazy = True):\n",
    "    k = pow(2,n)\n",
    "    P = ssp.lil_matrix((k,k))\n",
    "    p = 1./n\n",
    "    \n",
    "    for i in range(0,k):\n",
    "        for j in range(0,n):\n",
    "            P[i, i ^ ( (i ^ (~ (i & (1 << j))) ) & (1 << j) )] = p\n",
    "\n",
    "    if lazy:\n",
    "        P = mkm.lazy(P)\n",
    "\n",
    "    return P.tocsr()\n",
    "\n",
    "print hypercube_transition_matrix(4,lazy=False)"
   ]
  },
  {
   "cell_type": "code",
   "execution_count": null,
   "metadata": {
    "collapsed": false,
    "scrolled": false
   },
   "outputs": [],
   "source": []
  }
 ],
 "metadata": {
  "kernelspec": {
   "display_name": "Python 2",
   "language": "python",
   "name": "python2"
  },
  "language_info": {
   "codemirror_mode": {
    "name": "ipython",
    "version": 2
   },
   "file_extension": ".py",
   "mimetype": "text/x-python",
   "name": "python",
   "nbconvert_exporter": "python",
   "pygments_lexer": "ipython2",
   "version": "2.7.6"
  }
 },
 "nbformat": 4,
 "nbformat_minor": 0
}
