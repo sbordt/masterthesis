{
 "cells": [
  {
   "cell_type": "markdown",
   "metadata": {},
   "source": [
    "# Masterthesis"
   ]
  },
  {
   "cell_type": "code",
   "execution_count": 1,
   "metadata": {
    "collapsed": false
   },
   "outputs": [],
   "source": [
    "import networkx as nx\n",
    "import markovmixing as mkm\n",
    "import numpy as np\n",
    "import random\n",
    "\n",
    "execfile('graph_util.py')\n"
   ]
  },
  {
   "cell_type": "markdown",
   "metadata": {},
   "source": [
    "## Generate and save some graphs "
   ]
  },
  {
   "cell_type": "code",
   "execution_count": null,
   "metadata": {
    "collapsed": true
   },
   "outputs": [],
   "source": [
    "random.seed(0)\n",
    "\n",
    "# G = erdos_renyi_giant_component(5000000,1.05/5000000)\n",
    "# print nx.number_of_nodes(G)\n",
    "\n",
    "# G_2core = nx.k_core(G,k=2)\n",
    "# print nx.number_of_nodes(G_2core)\n",
    "\n",
    "# nx.write_sparse6(G_2core, '/home/sbordt/Desktop/masterthesis_data/ergc_2core_1.s6')\n",
    "\n",
    "random.seed(1)\n",
    "\n",
    "# G = erdos_renyi_giant_component(5000000,1.1/5000000)\n",
    "# print nx.number_of_nodes(G)\n",
    "\n",
    "# G_2core = nx.k_core(G,k=2)\n",
    "# print nx.number_of_nodes(G_2core)\n",
    "\n",
    "# nx.write_sparse6(G_2core, '/home/sbordt/Desktop/masterthesis_data/ergc_2core_2.s6')\n",
    "\n"
   ]
  },
  {
   "cell_type": "code",
   "execution_count": 2,
   "metadata": {
    "collapsed": false
   },
   "outputs": [
    {
     "name": "stdout",
     "output_type": "stream",
     "text": [
      "INFO: Iterating 1 distribution(s) to stationarity for a Markov chain with n=100.\n",
      "14 Dec 22:53: 1 iteration step(s) completed (that took 0.00 seconds).\n",
      "14 Dec 22:53: 1 iteration step(s) completed (that took 0.00 seconds).\n",
      "14 Dec 22:53: 2 iteration step(s) completed (that took 0.00 seconds).\n",
      "14 Dec 22:53: 4 iteration step(s) completed (that took 0.00 seconds).\n",
      "14 Dec 22:53: 8 iteration step(s) completed (that took 0.00 seconds).\n",
      "14 Dec 22:53: 16 iteration step(s) completed (that took 0.00 seconds).\n",
      "14 Dec 22:53: 32 iteration step(s) completed (that took 0.00 seconds).\n",
      "14 Dec 22:53: 64 iteration step(s) completed (that took 0.00 seconds).\n",
      "14 Dec 22:53: 128 iteration step(s) completed (that took 0.00 seconds).\n",
      "14 Dec 22:53: 256 iteration step(s) completed (that took 0.01 seconds).\n",
      "14 Dec 22:53: 512 iteration step(s) completed (that took 0.01 seconds).\n",
      "14 Dec 22:53: 1024 iteration step(s) completed (that took 0.02 seconds).\n",
      "14 Dec 22:53: 2048 iteration step(s) completed (that took 0.03 seconds).\n",
      "INFO: Refining 1 distribution(s) for a Markov chain with n=100.\n",
      "INFO: Iterating distributions one after another.\n",
      "14 Dec 22:53: 64 iteration step(s) completed (that took 0.00 seconds).\n",
      "14 Dec 22:53: 128 iteration step(s) completed (that took 0.00 seconds).\n",
      "14 Dec 22:53: 256 iteration step(s) completed (that took 0.00 seconds).\n",
      "14 Dec 22:53: 512 iteration step(s) completed (that took 0.00 seconds).\n"
     ]
    }
   ],
   "source": [
    "################ Mixing on the 100-cycle ################\n",
    "\n",
    "G = nx.cycle_graph(100)\n",
    "\n",
    "mc = mkm.nx_graph_lazy_srw(G)\n",
    "mc.add_random_delta_distributions(1)\n",
    "mc.compute_tv_mixing()\n",
    "\n",
    "#plot the mixing\n",
    "# mc.plot_tv_mixing(0)\n",
    "\n",
    "# convergence video\n",
    "#mc.convergence_video('/home/sbordt/Desktop/cycle_lazy_100.avi', 0, 60)\n",
    "\n"
   ]
  },
  {
   "cell_type": "code",
   "execution_count": null,
   "metadata": {
    "collapsed": true
   },
   "outputs": [],
   "source": [
    "################ Mixing of the random walk on the 101-cycle ################\n",
    "\n",
    "n = 101\n",
    "mc = mkm.MarkovChain(mkm.circle_transition_matrix(n,0.9,lazy=False))\n",
    "mc.set_stationary(mkm.uniform_distribution(n))\n",
    "mc.add_random_delta_distributions(1)\n",
    "mc.compute_tv_mixing()\n",
    "\n",
    "mc.convergence_video('/home/sbordt/Desktop/cycle_biased_101.avi', 0, 60)\n"
   ]
  },
  {
   "cell_type": "code",
   "execution_count": null,
   "metadata": {
    "collapsed": true
   },
   "outputs": [],
   "source": [
    "################ Mixing on the 100-cycle with appended binary trees ################\n",
    "\n",
    "# G = append_graph_to_all_nodes(nx.cycle_graph(100), nx.balanced_tree(3,2), 0)\n",
    "# #show_graph(G)\n",
    "\n",
    "# mc = mkm.nx_graph_lazy_srw(G)\n",
    "# mc.add_random_delta_distributions(1)\n",
    "# mc.compute_tv_mixing()\n",
    "\n",
    "# # plot the mixing\n",
    "# mc.plot_tv_mixing(0)"
   ]
  },
  {
   "cell_type": "code",
   "execution_count": null,
   "metadata": {
    "collapsed": true
   },
   "outputs": [],
   "source": [
    "################ Mixing on the 100-cycle with appended Poi-GW-Trees ################\n",
    "\n",
    "# np.random.seed(0)\n",
    "\n",
    "# G = nx.cycle_graph(100)\n",
    "# grow_gw_trees_at_all_nodes(G, lambda: np.random.poisson(0.95, 1))\n",
    "\n",
    "# mc = mkm.nx_graph_lazy_srw(G)\n",
    "# mc.add_random_delta_distributions(1)\n",
    "# mc.compute_tv_mixing()\n",
    "\n",
    "# # plot the mixing\n",
    "# mc.plot_tv_mixing(0)\n"
   ]
  },
  {
   "cell_type": "code",
   "execution_count": null,
   "metadata": {
    "collapsed": true
   },
   "outputs": [],
   "source": [
    "################ Mixing on the 2-core of the giant component of an Erdős–Rényi random graph ################\n",
    "\n",
    "# G = nx.read_sparse6('/home/sbordt/Desktop/masterthesis_data/ergc_2core_2.s6')\n",
    "\n",
    "# mc = mkm.nx_graph_srw(G)\n",
    "# mc.add_random_delta_distributions(1)\n",
    "# mc.compute_tv_mixing()\n",
    "\n",
    "# # plot the mixing\n",
    "# mc.plot_tv_mixing(0)"
   ]
  },
  {
   "cell_type": "code",
   "execution_count": null,
   "metadata": {
    "collapsed": true
   },
   "outputs": [],
   "source": [
    "################ Mixing on a GW-Tree ################\n",
    "\n",
    "# np.random.seed(0)\n",
    "\n",
    "# G = grow_gw_tree(lambda: np.random.poisson(1.05, 1), num_generations = 100)\n",
    "# while nx.number_of_nodes(G) < 100:\n",
    "# \tG = grow_gw_tree(lambda: np.random.poisson(1.05, 1), num_generations = 100)\n",
    "\n",
    "# #show_tree(G)\n",
    "\n",
    "# mc = mkm.nx_graph_lazy_srw(G)\n",
    "# mc.add_distributions(mkm.delta_distribution(mc.get_n(),0))\n",
    "# mc.compute_tv_mixing()\n",
    "\n",
    "# # plot the mixing\n",
    "# mc.plot_tv_mixing(0)"
   ]
  },
  {
   "cell_type": "code",
   "execution_count": null,
   "metadata": {
    "collapsed": true
   },
   "outputs": [],
   "source": [
    "################ lazy biased random walk on the line ################\n",
    "\n",
    "mc = mkm.MarkovChain(mkm.line_lazy_transition_matrix(100, p=0.51))\n",
    "mc.add_random_delta_distributions(1)\n",
    "mc.compute_tv_mixing()\n",
    "\n",
    "mc.convergence_video('/home/sbordt/Desktop/line_biased.avi', 0, 60)"
   ]
  },
  {
   "cell_type": "code",
   "execution_count": null,
   "metadata": {
    "collapsed": true
   },
   "outputs": [],
   "source": []
  },
  {
   "cell_type": "code",
   "execution_count": null,
   "metadata": {
    "collapsed": true
   },
   "outputs": [],
   "source": []
  },
  {
   "cell_type": "code",
   "execution_count": null,
   "metadata": {
    "collapsed": true
   },
   "outputs": [],
   "source": [
    "\n",
    "\n",
    "\n",
    "\n",
    "\n",
    "\n",
    "\n",
    "\n",
    "\n"
   ]
  }
 ],
 "metadata": {
  "kernelspec": {
   "display_name": "Python 2",
   "language": "python",
   "name": "python2"
  },
  "language_info": {
   "codemirror_mode": {
    "name": "ipython",
    "version": 2
   },
   "file_extension": ".py",
   "mimetype": "text/x-python",
   "name": "python",
   "nbconvert_exporter": "python",
   "pygments_lexer": "ipython2",
   "version": "2.7.6"
  }
 },
 "nbformat": 4,
 "nbformat_minor": 0
}
