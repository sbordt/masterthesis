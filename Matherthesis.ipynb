{
 "cells": [
  {
   "cell_type": "markdown",
   "metadata": {},
   "source": [
    "# Masterthesis"
   ]
  },
  {
   "cell_type": "code",
   "execution_count": null,
   "metadata": {
    "collapsed": true
   },
   "outputs": [],
   "source": [
    "import networkx as nx\n",
    "import markovmixing as mkm\n",
    "import numpy as np\n",
    "import random\n",
    "\n",
    "execfile('graph_util.py')"
   ]
  },
  {
   "cell_type": "markdown",
   "metadata": {},
   "source": [
    "## Generate and save some random graphs"
   ]
  },
  {
   "cell_type": "code",
   "execution_count": null,
   "metadata": {
    "collapsed": false
   },
   "outputs": [],
   "source": [
    "random.seed(1)\n",
    "\n",
    "G = erdos_renyi_giant_component(2500000,1.1/2500000)\n",
    "print nx.number_of_nodes(G)\n",
    "\n",
    "G_2core = nx.k_core(G,k=2)\n",
    "print nx.number_of_nodes(G_2core)\n",
    "\n",
    "nx.write_sparse6(G_2core, 'graphs/ergc_2core.s6')"
   ]
  },
  {
   "cell_type": "code",
   "execution_count": null,
   "metadata": {
    "collapsed": false
   },
   "outputs": [],
   "source": [
    "# verify that the relation of giant/2-core/kernel is indeed typical for these parameters\n",
    "for i in [2,3,4,5]:\n",
    "    random.seed(i)\n",
    "    G = erdos_renyi_giant_component(2500000,1.1/2500000)\n",
    "    print nx.number_of_nodes(G)\n",
    "    print nx.degree_histogram(G)\n",
    "\n",
    "    G_2core = nx.k_core(G,k=2)\n",
    "    print nx.number_of_nodes(G_2core)\n",
    "    \n",
    "    G_kernel = pseudo_kernel(G)\n",
    "    print nx.number_of_nodes(G_kernel)"
   ]
  },
  {
   "cell_type": "code",
   "execution_count": null,
   "metadata": {
    "collapsed": false
   },
   "outputs": [],
   "source": [
    "random.seed(10)\n",
    "\n",
    "G = erdos_renyi_giant_component(250000,1.1/250000)\n",
    "\n",
    "nx.write_sparse6(G, 'graphs/ergc.s6')"
   ]
  },
  {
   "cell_type": "code",
   "execution_count": null,
   "metadata": {
    "collapsed": false
   },
   "outputs": [],
   "source": [
    "# verify that the relation of giant/2-core/kernel is indeed typical for these parameters\n",
    "for i in [0,1,2,3]:\n",
    "    random.seed(i)\n",
    "    G = erdos_renyi_giant_component(250000,1.1/250000)\n",
    "    print nx.number_of_nodes(G)\n",
    "\n",
    "    G_2core = nx.k_core(G,k=2)\n",
    "    print nx.number_of_nodes(G_2core)\n",
    "    \n",
    "    G_kernel = pseudo_kernel(G)\n",
    "    print nx.number_of_nodes(G_kernel)"
   ]
  },
  {
   "cell_type": "markdown",
   "metadata": {},
   "source": [
    "## Determine mixing times on different types of graphs"
   ]
  },
  {
   "cell_type": "markdown",
   "metadata": {},
   "source": [
    "### Lazy random walk on the 1000-path"
   ]
  },
  {
   "cell_type": "code",
   "execution_count": null,
   "metadata": {
    "collapsed": true
   },
   "outputs": [],
   "source": [
    "G = nx.path_graph(1000)\n",
    "\n",
    "mc = mkm.nx_graph_lazy_srw(G)\n",
    "\n",
    "for i in [0,250,500]:\n",
    "    d = np.zeros(1000)\n",
    "    d[i] = 1.\n",
    "    mc.add_distributions(d)\n",
    "    \n",
    "mc.plot_tv_mixing(y_tol=0.01, threshold=0.05, text=False)"
   ]
  },
  {
   "cell_type": "markdown",
   "metadata": {},
   "source": [
    "### Lazy biased random walk on the 1000-path"
   ]
  },
  {
   "cell_type": "code",
   "execution_count": null,
   "metadata": {
    "collapsed": false
   },
   "outputs": [],
   "source": [
    "mc = mkm.MarkovChain(mkm.line_lazy_transition_matrix(1000, p=0.51))\n",
    "\n",
    "for i in [0,500,999]:\n",
    "    d = np.zeros(1000)\n",
    "    d[i] = 1.\n",
    "    mc.add_distributions(d)\n",
    "    \n",
    "mc.plot_tv_mixing(y_tol=0.01, threshold=1e-5, text=False)"
   ]
  },
  {
   "cell_type": "markdown",
   "metadata": {},
   "source": [
    "### Lazy random walk on the 50-cycle"
   ]
  },
  {
   "cell_type": "code",
   "execution_count": null,
   "metadata": {
    "collapsed": false
   },
   "outputs": [],
   "source": [
    "G = nx.cycle_graph(50)\n",
    "\n",
    "mc = mkm.nx_graph_lazy_srw(G)\n",
    "mc.add_random_delta_distributions(1)\n",
    "\n",
    "mc.plot_tv_mixing(y_tol=0.01, threshold=0.01, text=False)"
   ]
  },
  {
   "cell_type": "markdown",
   "metadata": {},
   "source": [
    "### Lazy random walk on the 50-cycle with appended binary trees of height 8"
   ]
  },
  {
   "cell_type": "code",
   "execution_count": null,
   "metadata": {
    "collapsed": false,
    "scrolled": false
   },
   "outputs": [],
   "source": [
    "G = append_graph_to_all_nodes(nx.cycle_graph(50), nx.balanced_tree(2,8), 0)\n",
    "\n",
    "mc = mkm.nx_graph_lazy_srw(G)\n",
    "mc.add_random_delta_distributions(1)\n",
    "\n",
    "mc.plot_tv_mixing(y_tol=0.01, threshold=0.01, text=False)"
   ]
  },
  {
   "cell_type": "markdown",
   "metadata": {},
   "source": [
    "### Lazy random walk on the 15-dimensional hypercube"
   ]
  },
  {
   "cell_type": "code",
   "execution_count": null,
   "metadata": {
    "collapsed": false
   },
   "outputs": [],
   "source": [
    "mc = mkm.MarkovChain(mkm.hypercube_transition_matrix(15))\n",
    "mc.add_random_delta_distributions(1)\n",
    "mc.set_stationary(mkm.uniform_distribution(mc.get_n()))\n",
    "\n",
    "mc.plot_tv_mixing(y_tol=0.01, threshold=0.01, text=False)"
   ]
  },
  {
   "cell_type": "markdown",
   "metadata": {},
   "source": [
    "### SRW on a random 6-regular graph with n=50.000"
   ]
  },
  {
   "cell_type": "code",
   "execution_count": null,
   "metadata": {
    "collapsed": false
   },
   "outputs": [],
   "source": [
    "G = nx.read_sparse6('graphs/6_regular.s6')\n",
    "\n",
    "mc = mkm.nx_graph_srw(G)\n",
    "mc.add_random_delta_distributions(1)\n",
    "\n",
    "mc.plot_tv_mixing(y_tol=0.01, threshold=0.01, text=False)"
   ]
  },
  {
   "cell_type": "markdown",
   "metadata": {
    "collapsed": false,
    "scrolled": false
   },
   "source": [
    "### Lazy random walk on an Erdős–Rényi giant component, it's 2-core and pseudo-kernel"
   ]
  },
  {
   "cell_type": "code",
   "execution_count": null,
   "metadata": {
    "collapsed": false
   },
   "outputs": [],
   "source": [
    "# giant component\n",
    "G = nx.read_sparse6('graphs/ergc.s6')\n",
    "\n",
    "mc = mkm.nx_graph_lazy_srw(G)\n",
    "mc.add_random_delta_distributions(1)\n",
    "\n",
    "mc.plot_tv_mixing(y_tol=0.01, threshold=0.01, text=False)"
   ]
  },
  {
   "cell_type": "code",
   "execution_count": null,
   "metadata": {
    "collapsed": false
   },
   "outputs": [],
   "source": [
    "# 2-core\n",
    "G = nx.k_core(nx.read_sparse6('graphs/ergc.s6'),k=2)\n",
    "\n",
    "mc = mkm.nx_graph_lazy_srw(G)\n",
    "mc.add_random_delta_distributions(1)\n",
    "\n",
    "mc.plot_tv_mixing(y_tol=0.01, threshold=0.01, text=False)"
   ]
  },
  {
   "cell_type": "code",
   "execution_count": null,
   "metadata": {
    "collapsed": false
   },
   "outputs": [],
   "source": [
    "# pseudo-kernel\n",
    "G = pseudo_kernel(nx.read_sparse6('graphs/ergc.s6'))\n",
    "\n",
    "mc = mkm.nx_graph_lazy_srw(G)\n",
    "mc.add_random_delta_distributions(1)\n",
    "\n",
    "mc.plot_tv_mixing(y_tol=0.01, threshold=0.01, text=False)"
   ]
  },
  {
   "cell_type": "markdown",
   "metadata": {
    "collapsed": false,
    "scrolled": false
   },
   "source": [
    "### Lazy random walk on the 2-core and kernel of an Erdős–Rényi giant component"
   ]
  },
  {
   "cell_type": "code",
   "execution_count": null,
   "metadata": {
    "collapsed": false
   },
   "outputs": [],
   "source": [
    "G = nx.read_sparse6('graphs/ergc_2core.s6')\n",
    "\n",
    "mc = mkm.nx_graph_lazy_srw(G)\n",
    "mc.add_random_delta_distributions(1)\n",
    "\n",
    "mc.plot_tv_mixing(y_tol=0.01, threshold=0.01, text=False)"
   ]
  },
  {
   "cell_type": "code",
   "execution_count": null,
   "metadata": {
    "collapsed": false
   },
   "outputs": [],
   "source": [
    "G = pseudo_kernel(nx.read_sparse6('graphs/ergc_2core.s6'))\n",
    "\n",
    "mc = mkm.nx_graph_lazy_srw(G)\n",
    "mc.add_random_delta_distributions(1)\n",
    "\n",
    "mc.plot_tv_mixing(y_tol=0.01, threshold=0.01, text=False)"
   ]
  },
  {
   "cell_type": "markdown",
   "metadata": {
    "collapsed": true
   },
   "source": [
    "### Another graph that should have cutoff"
   ]
  },
  {
   "cell_type": "code",
   "execution_count": null,
   "metadata": {
    "collapsed": false
   },
   "outputs": [],
   "source": [
    "random.seed(25)\n",
    "k = 10\n",
    "\n",
    "G = nx.empty_graph(k)\n",
    "\n",
    "for i in xrange(50000-k):\n",
    "    G.add_node(G.number_of_nodes())\n",
    "    \n",
    "    for j in xrange(k):\n",
    "        v = random.randint(0,G.number_of_nodes()-2)\n",
    "        G.add_edge(v,G.number_of_nodes()-1)\n",
    "\n",
    "#show_graph(G)\n",
    "\n",
    "mc = mkm.nx_graph_lazy_srw(G)\n",
    "mc.add_random_delta_distributions(1)\n",
    "\n",
    "mc.plot_tv_mixing(y_tol=0.01, threshold=0.01, text=False)"
   ]
  },
  {
   "cell_type": "code",
   "execution_count": null,
   "metadata": {
    "collapsed": false
   },
   "outputs": [],
   "source": [
    "random.seed(2)\n",
    "\n",
    "n = 100000\n",
    "lam = 1.1\n",
    "\n",
    "G = erdos_renyi_giant_component(n,lam/n)\n",
    "K = pseudo_kernel(G)\n",
    "\n",
    "print nx.number_of_nodes(G)\n",
    "print nx.number_of_nodes(K)\n",
    "print ((100.*nx.number_of_nodes(K))/nx.number_of_nodes(G))\n",
    "\n",
    "mc = mkm.nx_graph_lazy_srw(K)\n",
    "mc.add_random_delta_distributions(1)\n",
    "\n",
    "mc.plot_tv_mixing(y_tol=0.01, threshold=0.01, text=False)"
   ]
  },
  {
   "cell_type": "markdown",
   "metadata": {},
   "source": [
    "## Draw some graphs"
   ]
  },
  {
   "cell_type": "markdown",
   "metadata": {
    "collapsed": true
   },
   "source": [
    "### 10-path with attached Galton-Watson trees"
   ]
  },
  {
   "cell_type": "code",
   "execution_count": null,
   "metadata": {
    "collapsed": true
   },
   "outputs": [],
   "source": [
    "np.random.seed(0)\n",
    "\n",
    "G = nx.path_graph(10)\n",
    "grow_gw_trees_at_all_nodes(G, lambda: np.random.poisson(0.9, 1))\n",
    "\n",
    "pos = nx.graphviz_layout(G, prog='neato')\n",
    "nx.draw(G, pos, with_labels=False, arrows=False, node_size=100, node_color='k', edge_color='k', width=1.5)\n",
    "plt.show()\n",
    "\n",
    "pos = nx.graphviz_layout(G, prog='neato')\n",
    "nx.draw(G, pos, with_labels=True, arrows=False)\n",
    "plt.show()\n"
   ]
  },
  {
   "cell_type": "markdown",
   "metadata": {},
   "source": [
    "### 2-core and path contraction for a giant component"
   ]
  },
  {
   "cell_type": "code",
   "execution_count": null,
   "metadata": {
    "collapsed": false
   },
   "outputs": [],
   "source": [
    "random.seed(0)\n",
    "\n",
    "n = 100000\n",
    "lam = 1.1\n",
    "\n",
    "G = erdos_renyi_giant_component(n,lam/n)\n",
    "K = pseudo_kernel(G)\n",
    "\n",
    "print nx.number_of_nodes(G)\n",
    "print nx.number_of_nodes(K)\n",
    "\n",
    "pos = nx.graphviz_layout(K, prog='fdp')\n",
    "nx.draw(K, pos, with_labels=False, arrows=False, node_size=100, node_color='k', edge_color='k', width=1.5)\n",
    "plt.show()"
   ]
  },
  {
   "cell_type": "markdown",
   "metadata": {},
   "source": [
    "### Two Galton-Watson trees with different distribution to illustrate couplings"
   ]
  },
  {
   "cell_type": "code",
   "execution_count": null,
   "metadata": {
    "collapsed": false
   },
   "outputs": [],
   "source": [
    "# make the result look like a coupling of trees was tried, too\n",
    "np.random.seed(11)\n",
    "\n",
    "G = grow_gw_tree(lambda: np.random.choice([1,1,1,1,1,2,2,2,3,3]), n_gen=5)\n",
    "show_tree(G)\n",
    "\n",
    "# two nodes of degree 2 become degree 3 to reflect the different distribution\n",
    "G.add_edge(6, G.number_of_nodes())\n",
    "G.add_edge(35, G.number_of_nodes())\n",
    "G.add_edge(G.number_of_nodes()-1, G.number_of_nodes())\n",
    "G.add_edge(G.number_of_nodes()-2, G.number_of_nodes())\n",
    "G.add_edge(G.number_of_nodes()-1, G.number_of_nodes())\n",
    "G.add_edge(G.number_of_nodes()-3, G.number_of_nodes())\n",
    "G.add_edge(G.number_of_nodes()-4, G.number_of_nodes())\n",
    "show_tree(G)"
   ]
  },
  {
   "cell_type": "markdown",
   "metadata": {},
   "source": [
    "### A giant component and it's kernel"
   ]
  },
  {
   "cell_type": "code",
   "execution_count": null,
   "metadata": {
    "collapsed": false
   },
   "outputs": [],
   "source": [
    "random.seed(2)\n",
    "\n",
    "n = 2000\n",
    "lam = 1.5\n",
    "\n",
    "G = erdos_renyi_giant_component(n,lam/n)\n",
    "\n",
    "print nx.number_of_nodes(G)\n",
    "\n",
    "pos = nx.graphviz_layout(G, prog='fdp')\n",
    "nx.draw(G, pos, with_labels=False, arrows=False, node_size=40, node_color='k', edge_color='k', width=0.8)\n",
    "plt.show()"
   ]
  },
  {
   "cell_type": "code",
   "execution_count": null,
   "metadata": {
    "collapsed": false
   },
   "outputs": [],
   "source": [
    "K = pseudo_kernel(G)\n",
    "\n",
    "print nx.number_of_nodes(K)\n",
    "\n",
    "pos = nx.graphviz_layout(K, prog='fdp')\n",
    "nx.draw(K, pos, with_labels=False, arrows=False, node_size=40, node_color='k', edge_color='k', width=0.8)\n",
    "plt.show()"
   ]
  },
  {
   "cell_type": "markdown",
   "metadata": {
    "collapsed": true
   },
   "source": [
    "## Plot of the degree distribution of a random graph and it's giant component"
   ]
  },
  {
   "cell_type": "code",
   "execution_count": null,
   "metadata": {
    "collapsed": false
   },
   "outputs": [],
   "source": [
    "import matplotlib.pyplot as plt\n",
    "\n",
    "from matplotlib.colors import Normalize\n",
    "from matplotlib.cm import ScalarMappable\n",
    "from scipy.stats import binom\n",
    "\n",
    "n = 1000000\n",
    "p = 1.05/n\n",
    "\n",
    "random.seed(3)\n",
    "\n",
    "# sampe random graph and extract it's giant component\n",
    "G = nx.fast_gnp_random_graph(n,p)\n",
    "\n",
    "number_of_nodes = 0\n",
    "C_1 = 0\n",
    "for c in nx.connected_component_subgraphs(G):\n",
    "    if nx.number_of_nodes(c) > number_of_nodes:\n",
    "        number_of_nodes = nx.number_of_nodes(c)\n",
    "        C_1 = c\n",
    "        \n",
    "# degree distributions\n",
    "d1 = np.array(nx.degree_histogram(G))\n",
    "d2 = np.array(nx.degree_histogram(C_1))\n",
    "\n",
    "print sum(d1)\n",
    "print d1\n",
    "print sum(d2)\n",
    "print d2\n",
    "print nx.number_of_nodes(C_1)\n",
    "print np.exp(pow(np.log(n),1./3))"
   ]
  },
  {
   "cell_type": "code",
   "execution_count": null,
   "metadata": {
    "collapsed": false
   },
   "outputs": [],
   "source": [
    "print np.exp(pow(np.log(n),1./3))"
   ]
  },
  {
   "cell_type": "code",
   "execution_count": null,
   "metadata": {
    "collapsed": false,
    "scrolled": false
   },
   "outputs": [],
   "source": [
    "# random graph\n",
    "x = np.arange(8)\n",
    "y = (d1/(1.0*sum(d1)))[0:8]\n",
    "    \n",
    "fig = plt.figure()\n",
    "\n",
    "vmax = np.max(y)\n",
    "vmin = (np.min(y)*3. - vmax)/2.\n",
    "\n",
    "colormap = ScalarMappable(norm=Normalize(vmin, vmax), cmap='Blues')\n",
    "\n",
    "plt.bar(x, y, color=colormap.to_rgba(y), align='edge', width=0.8)\n",
    "\n",
    "plt.tick_params(axis='x', which='both', bottom='off', top='off', labelbottom='off')\n",
    "\n",
    "plt.xlim(0, len(x))\n",
    "plt.show()"
   ]
  },
  {
   "cell_type": "code",
   "execution_count": null,
   "metadata": {
    "collapsed": false,
    "scrolled": false
   },
   "outputs": [],
   "source": [
    "# giant component\n",
    "x = np.arange(8)\n",
    "y = (d2/(1.0*sum(d2)))[0:8]\n",
    "    \n",
    "fig = plt.figure()\n",
    "\n",
    "vmax = np.max(y)\n",
    "vmin = (np.min(y)*3. - vmax)/2.\n",
    "\n",
    "colormap = ScalarMappable(norm=Normalize(vmin, vmax), cmap='Blues')\n",
    "\n",
    "plt.bar(x, y, color=colormap.to_rgba(y), align='edge', width=0.8)\n",
    "\n",
    "plt.tick_params(axis='x', which='both', bottom='off', top='off', labelbottom='off')\n",
    "\n",
    "plt.xlim(0, len(x))\n",
    "plt.show()"
   ]
  },
  {
   "cell_type": "code",
   "execution_count": null,
   "metadata": {
    "collapsed": true
   },
   "outputs": [],
   "source": []
  },
  {
   "cell_type": "markdown",
   "metadata": {
    "collapsed": false
   },
   "source": [
    "## Speed of random walk on a Poisson-Galton-Watson tree"
   ]
  },
  {
   "cell_type": "code",
   "execution_count": null,
   "metadata": {
    "collapsed": false
   },
   "outputs": [],
   "source": [
    "from scipy.optimize import brentq\n",
    "from scipy.misc import factorial\n",
    "\n",
    "import matplotlib.pyplot as plt\n",
    "\n",
    "def poi_gw_q(lam):\n",
    "    res = brentq(lambda x: pow(np.e, lam*(x-1))-x, 0, 1-1e-10, xtol=1e-12)\n",
    "    return res\n",
    "\n",
    "def poi_gw_nu(lam):\n",
    "    q = poi_gw_q(lam)\n",
    "    x = []\n",
    "    k = 1\n",
    "    \n",
    "    while True:\n",
    "        a = sum(x)\n",
    "    \n",
    "        for i in xrange(10):\n",
    "            x.append(pow(lam,k)/factorial(k)*(1-pow(q,k+1))/(1-pow(q,2))*(k-1)/(k+1))\n",
    "            k = k+1\n",
    "            \n",
    "        if (sum(x)-a)/sum(x) < 1e-12:\n",
    "            break\n",
    "        \n",
    "    return pow(np.e,-lam)*sum(x)"
   ]
  },
  {
   "cell_type": "code",
   "execution_count": null,
   "metadata": {
    "collapsed": false,
    "scrolled": false
   },
   "outputs": [],
   "source": [
    "# plot the extinction probability as a function of lambda\n",
    "x = np.arange(1,7,0.01)\n",
    "y = []\n",
    "\n",
    "for xx in x:\n",
    "    y.append(poi_gw_q(xx))\n",
    "\n",
    "plt.plot(x, y)\n",
    "plt.show()"
   ]
  },
  {
   "cell_type": "code",
   "execution_count": null,
   "metadata": {
    "collapsed": true
   },
   "outputs": [],
   "source": [
    "# plot speed of random walk as a function of lambda\n",
    "x = np.arange(1,7,0.01)\n",
    "y = []\n",
    "\n",
    "for xx in x:\n",
    "    y.append(poi_gw_nu(xx))\n",
    "\n",
    "plt.xlim(1, 7)\n",
    "plt.plot(x, y)\n",
    "plt.show()"
   ]
  },
  {
   "cell_type": "code",
   "execution_count": null,
   "metadata": {
    "collapsed": true
   },
   "outputs": [],
   "source": []
  }
 ],
 "metadata": {
  "kernelspec": {
   "display_name": "Python 2",
   "language": "python",
   "name": "python2"
  },
  "language_info": {
   "codemirror_mode": {
    "name": "ipython",
    "version": 2
   },
   "file_extension": ".py",
   "mimetype": "text/x-python",
   "name": "python",
   "nbconvert_exporter": "python",
   "pygments_lexer": "ipython2",
   "version": "2.7.6"
  }
 },
 "nbformat": 4,
 "nbformat_minor": 0
}
