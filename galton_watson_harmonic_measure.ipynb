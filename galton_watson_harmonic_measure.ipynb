{
 "cells": [
  {
   "cell_type": "markdown",
   "metadata": {},
   "source": [
    "# Plot harmonic measure on a GW-tree as apparent after some finite number of generations"
   ]
  },
  {
   "cell_type": "code",
   "execution_count": null,
   "metadata": {
    "collapsed": false
   },
   "outputs": [],
   "source": [
    "import networkx as nx\n",
    "import markovmixing as mkm\n",
    "\n",
    "import numpy\n",
    "\n",
    "execfile('graph_util.py')"
   ]
  },
  {
   "cell_type": "markdown",
   "metadata": {},
   "source": [
    "## Choose one of these offspring distributions"
   ]
  },
  {
   "cell_type": "code",
   "execution_count": null,
   "metadata": {
    "collapsed": true
   },
   "outputs": [],
   "source": [
    "offspring = lambda: numpy.random.poisson(1.5)\n",
    "generation_measure = 8\n",
    "generation_hit = 13"
   ]
  },
  {
   "cell_type": "code",
   "execution_count": null,
   "metadata": {
    "collapsed": true
   },
   "outputs": [],
   "source": [
    "offspring = lambda: numpy.random.choice([1,2])\n",
    "generation_measure = 10\n",
    "generation_hit = 20"
   ]
  },
  {
   "cell_type": "code",
   "execution_count": null,
   "metadata": {
    "collapsed": true
   },
   "outputs": [],
   "source": [
    "# as in http://arxiv.org/abs/1504.01999\n",
    "offspring = lambda: numpy.random.choice([1,3])\n",
    "generation_measure = 7\n",
    "generation_hit = 14"
   ]
  },
  {
   "cell_type": "markdown",
   "metadata": {},
   "source": [
    "## Generate a GW-tree with the chosen offspring"
   ]
  },
  {
   "cell_type": "code",
   "execution_count": null,
   "metadata": {
    "collapsed": false
   },
   "outputs": [],
   "source": [
    "numpy.random.seed(0)\n",
    "\n",
    "G = grow_gw_tree(offspring, n_gen = generation_hit, directed = True)\n",
    "\n",
    "while nx.number_of_nodes(G) <= 100: \n",
    "    G = grow_gw_tree(offspring, n_gen = generation_hit, directed = True)\n",
    "    \n",
    "print nx.number_of_nodes(G)"
   ]
  },
  {
   "cell_type": "code",
   "execution_count": null,
   "metadata": {
    "collapsed": false
   },
   "outputs": [],
   "source": [
    "# Show the tree\n",
    "show_tree(G)"
   ]
  },
  {
   "cell_type": "markdown",
   "metadata": {},
   "source": [
    "## Setup for the simulation"
   ]
  },
  {
   "cell_type": "code",
   "execution_count": null,
   "metadata": {
    "collapsed": false
   },
   "outputs": [],
   "source": [
    "# The tree up to the generation where we want to determine the harmonic measure\n",
    "G_measure = G.copy()\n",
    "\n",
    "for node in G_measure.nodes():\n",
    "\tif G_measure.node[node]['generation']>generation_measure:\n",
    "\t\t\tG_measure.remove_node(node)\n",
    "            \n",
    "# the nodes of generation measure and hit\n",
    "generation = nx.get_node_attributes(G, 'generation')\n",
    "\n",
    "generation_measure_nodes = [key for key in generation if generation[key] == generation_measure]\n",
    "generation_hit_nodes = [key for key in generation if generation[key] == generation_hit]\n",
    "\n",
    "# dictionary mapping nodes of generation hit to their ancestors in generation measure\n",
    "ancestor_dict = {}\n",
    "\n",
    "for nh in generation_hit_nodes:\n",
    "    a = nh\n",
    "    \n",
    "    while generation[a] != generation_measure:\n",
    "        a = G.predecessors(a)[0] \n",
    "        \n",
    "    ancestor_dict[nh] = a\n",
    "        \n",
    "print generation_measure_nodes\n",
    "print len(generation_hit_nodes)\n",
    "print nx.number_of_nodes(G_measure)"
   ]
  },
  {
   "cell_type": "code",
   "execution_count": null,
   "metadata": {
    "collapsed": false
   },
   "outputs": [],
   "source": [
    "# Show the tree up to generation measure\n",
    "show_tree_debug(G_measure)"
   ]
  },
  {
   "cell_type": "markdown",
   "metadata": {},
   "source": [
    "## Monte-Carlo simulation of SRW on the tree"
   ]
  },
  {
   "cell_type": "code",
   "execution_count": null,
   "metadata": {
    "collapsed": false,
    "scrolled": true
   },
   "outputs": [],
   "source": [
    "numpy.random.seed(0)\n",
    "\n",
    "# monte-carlo simulation of the harmonic measure \n",
    "mc = mkm.nx_graph_srw(G.to_undirected())\n",
    "srw_hits = {}\n",
    "\n",
    "for n in generation_measure_nodes:\n",
    "    srw_hits[n] = 0\n",
    "\n",
    "for i in xrange(100000):\n",
    "    if i % 1000 == 0:\n",
    "        print i\n",
    "    \n",
    "    # start a SRW at the root\n",
    "    path = [0]\n",
    "    hit = -1\n",
    "\n",
    "    while hit == -1:\n",
    "        # let the SRW walk 99 steps\n",
    "        path = mc.sample_path(path[-1],100)\n",
    "\n",
    "        # did we hit generation hit?\n",
    "        for x in path:\n",
    "            if generation[x] == generation_hit:\n",
    "                hit = x\n",
    "                break\n",
    "    \n",
    "    # log the hit\n",
    "    srw_hits[ancestor_dict[hit]] = srw_hits[ancestor_dict[hit]]+1\n",
    "\n",
    "print srw_hits\n",
    "print sum(srw_hits.values())"
   ]
  },
  {
   "cell_type": "markdown",
   "metadata": {},
   "source": [
    "### Plot the distribution of hits"
   ]
  },
  {
   "cell_type": "code",
   "execution_count": null,
   "metadata": {
    "collapsed": false
   },
   "outputs": [],
   "source": [
    "import matplotlib.pyplot as plt\n",
    "\n",
    "from matplotlib.colors import Normalize\n",
    "from matplotlib.cm import ScalarMappable\n",
    "\n",
    "x = srw_hits.keys()\n",
    "n = sum(srw_hits.values())*1.0\n",
    "\n",
    "y = []\n",
    "for key in x:\n",
    "    y.append(srw_hits[key]/n)\n",
    "    \n",
    "fig = plt.figure()\n",
    "\n",
    "vmax = numpy.max(y)\n",
    "vmin = (numpy.min(y)*3. - vmax)/2.\n",
    "\n",
    "colormap = ScalarMappable(norm=Normalize(vmin, vmax), cmap='Blues')\n",
    "\n",
    "plt.bar(numpy.arange(len(y)), y, color=colormap.to_rgba(y), align='edge', width=1.0)\n",
    "\n",
    "plt.tick_params(axis='x', which='both', bottom='off', top='off', labelbottom='off')\n",
    "\n",
    "plt.xlim(0, len(x))\n",
    "plt.show()"
   ]
  },
  {
   "cell_type": "code",
   "execution_count": null,
   "metadata": {
    "collapsed": true
   },
   "outputs": [],
   "source": [
    "\n",
    "\n",
    "\n"
   ]
  },
  {
   "cell_type": "markdown",
   "metadata": {},
   "source": [
    "## Monte-Carlo simulation of NBRW on the tree"
   ]
  },
  {
   "cell_type": "code",
   "execution_count": null,
   "metadata": {
    "collapsed": false
   },
   "outputs": [],
   "source": [
    "numpy.random.seed(0)\n",
    "\n",
    "A = nx.to_scipy_sparse_matrix(G.to_undirected())\n",
    "P = mkm.tree_nbrw_transition_matrix(A, 0)\n",
    "mc = mkm.MarkovChain(P)\n",
    "\n",
    "nbrw_hits = {}\n",
    "\n",
    "for n in generation_measure_nodes:\n",
    "    nbrw_hits[n] = 0\n",
    "\n",
    "for i in xrange(50000):\n",
    "    if i % 1000 == 0:\n",
    "        print i\n",
    "    \n",
    "    # start a NBRW at the root\n",
    "    path = [0]\n",
    "    hit = -1\n",
    "    \n",
    "    # let the NBRW walk to generation_hit\n",
    "    path = mc.sample_path(path[-1],generation_hit+1)\n",
    "    assert(generation[path[-1]] == generation_hit)\n",
    "\n",
    "    # log the hit\n",
    "    nbrw_hits[ancestor_dict[path[-1]]] = nbrw_hits[ancestor_dict[path[-1]]]+1\n",
    "\n",
    "print nbrw_hits\n",
    "print sum(nbrw_hits.values())"
   ]
  },
  {
   "cell_type": "markdown",
   "metadata": {},
   "source": [
    "### Plot the distribution of hits"
   ]
  },
  {
   "cell_type": "code",
   "execution_count": null,
   "metadata": {
    "collapsed": false
   },
   "outputs": [],
   "source": [
    "import matplotlib.pyplot as plt\n",
    "\n",
    "from matplotlib.colors import Normalize\n",
    "from matplotlib.cm import ScalarMappable\n",
    "\n",
    "x = nbrw_hits.keys()\n",
    "n = sum(nbrw_hits.values())*1.0\n",
    "\n",
    "y = []\n",
    "for key in x:\n",
    "    y.append(nbrw_hits[key]/n)\n",
    "    \n",
    "fig = plt.figure()\n",
    "\n",
    "vmax = numpy.max(y)\n",
    "vmin = (numpy.min(y)*3. - vmax)/2.\n",
    "\n",
    "colormap = ScalarMappable(norm=Normalize(vmin, vmax), cmap='Blues')\n",
    "\n",
    "plt.bar(numpy.arange(len(y)), y, color=colormap.to_rgba(y), align='edge', width=1.0)\n",
    "\n",
    "plt.tick_params(axis='x', which='both', bottom='off', top='off', labelbottom='off')\n",
    "\n",
    "plt.xlim(0, len(x))\n",
    "plt.show()"
   ]
  },
  {
   "cell_type": "code",
   "execution_count": null,
   "metadata": {
    "collapsed": false
   },
   "outputs": [],
   "source": []
  },
  {
   "cell_type": "code",
   "execution_count": null,
   "metadata": {
    "collapsed": true
   },
   "outputs": [],
   "source": []
  },
  {
   "cell_type": "code",
   "execution_count": null,
   "metadata": {
    "collapsed": true
   },
   "outputs": [],
   "source": []
  }
 ],
 "metadata": {
  "kernelspec": {
   "display_name": "Python 2",
   "language": "python",
   "name": "python2"
  },
  "language_info": {
   "codemirror_mode": {
    "name": "ipython",
    "version": 2
   },
   "file_extension": ".py",
   "mimetype": "text/x-python",
   "name": "python",
   "nbconvert_exporter": "python",
   "pygments_lexer": "ipython2",
   "version": "2.7.6"
  }
 },
 "nbformat": 4,
 "nbformat_minor": 0
}
